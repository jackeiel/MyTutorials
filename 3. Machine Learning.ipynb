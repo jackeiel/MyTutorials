{
 "cells": [
  {
   "cell_type": "markdown",
   "metadata": {},
   "source": [
    "## Introduction\n",
    "\n",
    "In this notebook, I'll introduce a few different machine learning models and compare their performance. \n",
    "\n",
    "We will be dealing with:  \n",
    "1. Linear Regression\n",
    "2. K-Nearest Neighbors\n",
    "3. Decision Tree\n",
    "4. Random Forest\n",
    "5. Neural Net"
   ]
  },
  {
   "cell_type": "code",
   "execution_count": 104,
   "metadata": {},
   "outputs": [
    {
     "name": "stderr",
     "output_type": "stream",
     "text": [
      "Using TensorFlow backend.\n"
     ]
    }
   ],
   "source": [
    "import pandas as pd\n",
    "import numpy as np\n",
    "import matplotlib.pyplot as plt\n",
    "from matplotlib.markers import MarkerStyle\n",
    "from sklearn.decomposition import PCA\n",
    "from sklearn.utils import resample\n",
    "from sklearn.model_selection import train_test_split, cross_val_score, KFold\n",
    "from sklearn.preprocessing import PolynomialFeatures, StandardScaler, MinMaxScaler\n",
    "from sklearn.metrics import accuracy_score, mean_squared_error, r2_score, roc_auc_score, confusion_matrix\n",
    "\n",
    "from statsmodels.graphics.tsaplots import plot_acf, plot_pacf\n",
    "\n",
    "# models\n",
    "from sklearn.model_selection import GridSearchCV\n",
    "from sklearn.linear_model import LinearRegression, RidgeCV, LassoCV\n",
    "from sklearn import tree\n",
    "from sklearn.neighbors import KNeighborsRegressor\n",
    "from sklearn.ensemble import RandomForestRegressor\n",
    "from sklearn.ensemble import AdaBoostRegressor\n",
    "from sklearn.linear_model import LogisticRegression\n",
    "from sklearn.linear_model import LogisticRegressionCV\n",
    "\n",
    "import keras\n",
    "from keras import layers\n",
    "from keras import models\n",
    "from keras import optimizers\n",
    "from keras import regularizers\n",
    "\n",
    "from statsmodels.api import OLS\n",
    "\n",
    "import tensorflow as tf\n",
    "\n",
    "import statsmodels.api as sm\n",
    "\n",
    "%matplotlib inline\n",
    "\n",
    "pd.set_option('display.width', 1500)\n",
    "pd.set_option('display.max_columns', 100)\n",
    "from pandas.plotting import register_matplotlib_converters\n",
    "register_matplotlib_converters()\n",
    "\n",
    "plt.style.use('fivethirtyeight')"
   ]
  },
  {
   "cell_type": "code",
   "execution_count": 67,
   "metadata": {},
   "outputs": [],
   "source": [
    "np.random.seed(10)"
   ]
  },
  {
   "cell_type": "code",
   "execution_count": 4,
   "metadata": {},
   "outputs": [],
   "source": [
    "bikes = pd.read_csv('cleaned_bikes.csv', index_col=0)"
   ]
  },
  {
   "cell_type": "markdown",
   "metadata": {},
   "source": [
    "First let's orient ourselves to the problem. We are trying to build a predictive model, which will tell us how many total rides per day will be taken with the bikeshare program. Here is how the number of bike rides looks when plotted along the time axis. "
   ]
  },
  {
   "cell_type": "code",
   "execution_count": 5,
   "metadata": {},
   "outputs": [
    {
     "data": {
      "text/html": [
       "<div>\n",
       "<style scoped>\n",
       "    .dataframe tbody tr th:only-of-type {\n",
       "        vertical-align: middle;\n",
       "    }\n",
       "\n",
       "    .dataframe tbody tr th {\n",
       "        vertical-align: top;\n",
       "    }\n",
       "\n",
       "    .dataframe thead th {\n",
       "        text-align: right;\n",
       "    }\n",
       "</style>\n",
       "<table border=\"1\" class=\"dataframe\">\n",
       "  <thead>\n",
       "    <tr style=\"text-align: right;\">\n",
       "      <th></th>\n",
       "      <th>dteday</th>\n",
       "      <th>season</th>\n",
       "      <th>hour</th>\n",
       "      <th>holiday</th>\n",
       "      <th>weekday</th>\n",
       "      <th>workingday</th>\n",
       "      <th>weather</th>\n",
       "      <th>temp</th>\n",
       "      <th>atemp</th>\n",
       "      <th>hum</th>\n",
       "      <th>windspeed</th>\n",
       "      <th>casual</th>\n",
       "      <th>registered</th>\n",
       "      <th>total_rides</th>\n",
       "      <th>year</th>\n",
       "      <th>time_combined</th>\n",
       "    </tr>\n",
       "  </thead>\n",
       "  <tbody>\n",
       "    <tr>\n",
       "      <th>0</th>\n",
       "      <td>2011-01-01</td>\n",
       "      <td>Winter</td>\n",
       "      <td>0</td>\n",
       "      <td>0</td>\n",
       "      <td>6</td>\n",
       "      <td>0</td>\n",
       "      <td>1</td>\n",
       "      <td>0.24</td>\n",
       "      <td>0.2879</td>\n",
       "      <td>0.81</td>\n",
       "      <td>0.0</td>\n",
       "      <td>3</td>\n",
       "      <td>13</td>\n",
       "      <td>16</td>\n",
       "      <td>2011</td>\n",
       "      <td>2011-01-01 00:00:00</td>\n",
       "    </tr>\n",
       "    <tr>\n",
       "      <th>1</th>\n",
       "      <td>2011-01-01</td>\n",
       "      <td>Winter</td>\n",
       "      <td>1</td>\n",
       "      <td>0</td>\n",
       "      <td>6</td>\n",
       "      <td>0</td>\n",
       "      <td>1</td>\n",
       "      <td>0.22</td>\n",
       "      <td>0.2727</td>\n",
       "      <td>0.80</td>\n",
       "      <td>0.0</td>\n",
       "      <td>8</td>\n",
       "      <td>32</td>\n",
       "      <td>40</td>\n",
       "      <td>2011</td>\n",
       "      <td>2011-01-01 01:00:00</td>\n",
       "    </tr>\n",
       "    <tr>\n",
       "      <th>2</th>\n",
       "      <td>2011-01-01</td>\n",
       "      <td>Winter</td>\n",
       "      <td>2</td>\n",
       "      <td>0</td>\n",
       "      <td>6</td>\n",
       "      <td>0</td>\n",
       "      <td>1</td>\n",
       "      <td>0.22</td>\n",
       "      <td>0.2727</td>\n",
       "      <td>0.80</td>\n",
       "      <td>0.0</td>\n",
       "      <td>5</td>\n",
       "      <td>27</td>\n",
       "      <td>32</td>\n",
       "      <td>2011</td>\n",
       "      <td>2011-01-01 02:00:00</td>\n",
       "    </tr>\n",
       "    <tr>\n",
       "      <th>3</th>\n",
       "      <td>2011-01-01</td>\n",
       "      <td>Winter</td>\n",
       "      <td>3</td>\n",
       "      <td>0</td>\n",
       "      <td>6</td>\n",
       "      <td>0</td>\n",
       "      <td>1</td>\n",
       "      <td>0.24</td>\n",
       "      <td>0.2879</td>\n",
       "      <td>0.75</td>\n",
       "      <td>0.0</td>\n",
       "      <td>3</td>\n",
       "      <td>10</td>\n",
       "      <td>13</td>\n",
       "      <td>2011</td>\n",
       "      <td>2011-01-01 03:00:00</td>\n",
       "    </tr>\n",
       "    <tr>\n",
       "      <th>4</th>\n",
       "      <td>2011-01-01</td>\n",
       "      <td>Winter</td>\n",
       "      <td>4</td>\n",
       "      <td>0</td>\n",
       "      <td>6</td>\n",
       "      <td>0</td>\n",
       "      <td>1</td>\n",
       "      <td>0.24</td>\n",
       "      <td>0.2879</td>\n",
       "      <td>0.75</td>\n",
       "      <td>0.0</td>\n",
       "      <td>0</td>\n",
       "      <td>1</td>\n",
       "      <td>1</td>\n",
       "      <td>2011</td>\n",
       "      <td>2011-01-01 04:00:00</td>\n",
       "    </tr>\n",
       "  </tbody>\n",
       "</table>\n",
       "</div>"
      ],
      "text/plain": [
       "       dteday  season  hour  holiday  weekday  workingday  weather  temp   atemp   hum  windspeed  casual  registered  total_rides  year        time_combined\n",
       "0  2011-01-01  Winter     0        0        6           0        1  0.24  0.2879  0.81        0.0       3          13           16  2011  2011-01-01 00:00:00\n",
       "1  2011-01-01  Winter     1        0        6           0        1  0.22  0.2727  0.80        0.0       8          32           40  2011  2011-01-01 01:00:00\n",
       "2  2011-01-01  Winter     2        0        6           0        1  0.22  0.2727  0.80        0.0       5          27           32  2011  2011-01-01 02:00:00\n",
       "3  2011-01-01  Winter     3        0        6           0        1  0.24  0.2879  0.75        0.0       3          10           13  2011  2011-01-01 03:00:00\n",
       "4  2011-01-01  Winter     4        0        6           0        1  0.24  0.2879  0.75        0.0       0           1            1  2011  2011-01-01 04:00:00"
      ]
     },
     "execution_count": 5,
     "metadata": {},
     "output_type": "execute_result"
    }
   ],
   "source": [
    "bikes.head()"
   ]
  },
  {
   "cell_type": "code",
   "execution_count": 6,
   "metadata": {},
   "outputs": [
    {
     "data": {
      "text/html": [
       "<div>\n",
       "<style scoped>\n",
       "    .dataframe tbody tr th:only-of-type {\n",
       "        vertical-align: middle;\n",
       "    }\n",
       "\n",
       "    .dataframe tbody tr th {\n",
       "        vertical-align: top;\n",
       "    }\n",
       "\n",
       "    .dataframe thead tr th {\n",
       "        text-align: left;\n",
       "    }\n",
       "\n",
       "    .dataframe thead tr:last-of-type th {\n",
       "        text-align: right;\n",
       "    }\n",
       "</style>\n",
       "<table border=\"1\" class=\"dataframe\">\n",
       "  <thead>\n",
       "    <tr>\n",
       "      <th></th>\n",
       "      <th colspan=\"2\" halign=\"left\">hour</th>\n",
       "      <th colspan=\"2\" halign=\"left\">holiday</th>\n",
       "      <th colspan=\"2\" halign=\"left\">weekday</th>\n",
       "      <th colspan=\"2\" halign=\"left\">workingday</th>\n",
       "      <th colspan=\"2\" halign=\"left\">weather</th>\n",
       "      <th colspan=\"2\" halign=\"left\">temp</th>\n",
       "      <th colspan=\"2\" halign=\"left\">atemp</th>\n",
       "      <th colspan=\"2\" halign=\"left\">hum</th>\n",
       "      <th colspan=\"2\" halign=\"left\">windspeed</th>\n",
       "      <th colspan=\"2\" halign=\"left\">casual</th>\n",
       "      <th colspan=\"2\" halign=\"left\">registered</th>\n",
       "      <th colspan=\"2\" halign=\"left\">total_rides</th>\n",
       "      <th colspan=\"2\" halign=\"left\">year</th>\n",
       "    </tr>\n",
       "    <tr>\n",
       "      <th></th>\n",
       "      <th>mean</th>\n",
       "      <th>sum</th>\n",
       "      <th>mean</th>\n",
       "      <th>sum</th>\n",
       "      <th>mean</th>\n",
       "      <th>sum</th>\n",
       "      <th>mean</th>\n",
       "      <th>sum</th>\n",
       "      <th>mean</th>\n",
       "      <th>sum</th>\n",
       "      <th>mean</th>\n",
       "      <th>sum</th>\n",
       "      <th>mean</th>\n",
       "      <th>sum</th>\n",
       "      <th>mean</th>\n",
       "      <th>sum</th>\n",
       "      <th>mean</th>\n",
       "      <th>sum</th>\n",
       "      <th>mean</th>\n",
       "      <th>sum</th>\n",
       "      <th>mean</th>\n",
       "      <th>sum</th>\n",
       "      <th>mean</th>\n",
       "      <th>sum</th>\n",
       "      <th>mean</th>\n",
       "      <th>sum</th>\n",
       "    </tr>\n",
       "    <tr>\n",
       "      <th>dteday</th>\n",
       "      <th></th>\n",
       "      <th></th>\n",
       "      <th></th>\n",
       "      <th></th>\n",
       "      <th></th>\n",
       "      <th></th>\n",
       "      <th></th>\n",
       "      <th></th>\n",
       "      <th></th>\n",
       "      <th></th>\n",
       "      <th></th>\n",
       "      <th></th>\n",
       "      <th></th>\n",
       "      <th></th>\n",
       "      <th></th>\n",
       "      <th></th>\n",
       "      <th></th>\n",
       "      <th></th>\n",
       "      <th></th>\n",
       "      <th></th>\n",
       "      <th></th>\n",
       "      <th></th>\n",
       "      <th></th>\n",
       "      <th></th>\n",
       "      <th></th>\n",
       "      <th></th>\n",
       "    </tr>\n",
       "  </thead>\n",
       "  <tbody>\n",
       "    <tr>\n",
       "      <th>2011-01-01</th>\n",
       "      <td>11.500000</td>\n",
       "      <td>276</td>\n",
       "      <td>0</td>\n",
       "      <td>0</td>\n",
       "      <td>6</td>\n",
       "      <td>144</td>\n",
       "      <td>0</td>\n",
       "      <td>0</td>\n",
       "      <td>1.583333</td>\n",
       "      <td>38</td>\n",
       "      <td>0.344167</td>\n",
       "      <td>8.26</td>\n",
       "      <td>0.363625</td>\n",
       "      <td>8.7270</td>\n",
       "      <td>0.805833</td>\n",
       "      <td>19.34</td>\n",
       "      <td>0.160446</td>\n",
       "      <td>3.8507</td>\n",
       "      <td>13.791667</td>\n",
       "      <td>331</td>\n",
       "      <td>27.250000</td>\n",
       "      <td>654</td>\n",
       "      <td>41.041667</td>\n",
       "      <td>985</td>\n",
       "      <td>2011</td>\n",
       "      <td>48264</td>\n",
       "    </tr>\n",
       "    <tr>\n",
       "      <th>2011-01-02</th>\n",
       "      <td>11.782609</td>\n",
       "      <td>271</td>\n",
       "      <td>0</td>\n",
       "      <td>0</td>\n",
       "      <td>0</td>\n",
       "      <td>0</td>\n",
       "      <td>0</td>\n",
       "      <td>0</td>\n",
       "      <td>1.956522</td>\n",
       "      <td>45</td>\n",
       "      <td>0.363478</td>\n",
       "      <td>8.36</td>\n",
       "      <td>0.353739</td>\n",
       "      <td>8.1360</td>\n",
       "      <td>0.696087</td>\n",
       "      <td>16.01</td>\n",
       "      <td>0.248539</td>\n",
       "      <td>5.7164</td>\n",
       "      <td>5.695652</td>\n",
       "      <td>131</td>\n",
       "      <td>29.130435</td>\n",
       "      <td>670</td>\n",
       "      <td>34.826087</td>\n",
       "      <td>801</td>\n",
       "      <td>2011</td>\n",
       "      <td>46253</td>\n",
       "    </tr>\n",
       "    <tr>\n",
       "      <th>2011-01-03</th>\n",
       "      <td>12.318182</td>\n",
       "      <td>271</td>\n",
       "      <td>0</td>\n",
       "      <td>0</td>\n",
       "      <td>1</td>\n",
       "      <td>22</td>\n",
       "      <td>1</td>\n",
       "      <td>22</td>\n",
       "      <td>1.000000</td>\n",
       "      <td>22</td>\n",
       "      <td>0.196364</td>\n",
       "      <td>4.32</td>\n",
       "      <td>0.189405</td>\n",
       "      <td>4.1669</td>\n",
       "      <td>0.437273</td>\n",
       "      <td>9.62</td>\n",
       "      <td>0.248309</td>\n",
       "      <td>5.4628</td>\n",
       "      <td>5.454545</td>\n",
       "      <td>120</td>\n",
       "      <td>55.863636</td>\n",
       "      <td>1229</td>\n",
       "      <td>61.318182</td>\n",
       "      <td>1349</td>\n",
       "      <td>2011</td>\n",
       "      <td>44242</td>\n",
       "    </tr>\n",
       "    <tr>\n",
       "      <th>2011-01-04</th>\n",
       "      <td>11.869565</td>\n",
       "      <td>273</td>\n",
       "      <td>0</td>\n",
       "      <td>0</td>\n",
       "      <td>2</td>\n",
       "      <td>46</td>\n",
       "      <td>1</td>\n",
       "      <td>23</td>\n",
       "      <td>1.043478</td>\n",
       "      <td>24</td>\n",
       "      <td>0.200000</td>\n",
       "      <td>4.60</td>\n",
       "      <td>0.212122</td>\n",
       "      <td>4.8788</td>\n",
       "      <td>0.590435</td>\n",
       "      <td>13.58</td>\n",
       "      <td>0.160296</td>\n",
       "      <td>3.6868</td>\n",
       "      <td>4.695652</td>\n",
       "      <td>108</td>\n",
       "      <td>63.217391</td>\n",
       "      <td>1454</td>\n",
       "      <td>67.913043</td>\n",
       "      <td>1562</td>\n",
       "      <td>2011</td>\n",
       "      <td>46253</td>\n",
       "    </tr>\n",
       "    <tr>\n",
       "      <th>2011-01-05</th>\n",
       "      <td>11.869565</td>\n",
       "      <td>273</td>\n",
       "      <td>0</td>\n",
       "      <td>0</td>\n",
       "      <td>3</td>\n",
       "      <td>69</td>\n",
       "      <td>1</td>\n",
       "      <td>23</td>\n",
       "      <td>1.000000</td>\n",
       "      <td>23</td>\n",
       "      <td>0.226957</td>\n",
       "      <td>5.22</td>\n",
       "      <td>0.229270</td>\n",
       "      <td>5.2732</td>\n",
       "      <td>0.436957</td>\n",
       "      <td>10.05</td>\n",
       "      <td>0.186900</td>\n",
       "      <td>4.2987</td>\n",
       "      <td>3.565217</td>\n",
       "      <td>82</td>\n",
       "      <td>66.000000</td>\n",
       "      <td>1518</td>\n",
       "      <td>69.565217</td>\n",
       "      <td>1600</td>\n",
       "      <td>2011</td>\n",
       "      <td>46253</td>\n",
       "    </tr>\n",
       "  </tbody>\n",
       "</table>\n",
       "</div>"
      ],
      "text/plain": [
       "                 hour      holiday     weekday      workingday       weather          temp           atemp               hum        windspeed             casual      registered       total_rides        year       \n",
       "                 mean  sum    mean sum    mean  sum       mean sum      mean sum      mean   sum      mean     sum      mean    sum      mean     sum       mean  sum       mean   sum        mean   sum  mean    sum\n",
       "dteday                                                                                                                                                                                                               \n",
       "2011-01-01  11.500000  276       0   0       6  144          0   0  1.583333  38  0.344167  8.26  0.363625  8.7270  0.805833  19.34  0.160446  3.8507  13.791667  331  27.250000   654   41.041667   985  2011  48264\n",
       "2011-01-02  11.782609  271       0   0       0    0          0   0  1.956522  45  0.363478  8.36  0.353739  8.1360  0.696087  16.01  0.248539  5.7164   5.695652  131  29.130435   670   34.826087   801  2011  46253\n",
       "2011-01-03  12.318182  271       0   0       1   22          1  22  1.000000  22  0.196364  4.32  0.189405  4.1669  0.437273   9.62  0.248309  5.4628   5.454545  120  55.863636  1229   61.318182  1349  2011  44242\n",
       "2011-01-04  11.869565  273       0   0       2   46          1  23  1.043478  24  0.200000  4.60  0.212122  4.8788  0.590435  13.58  0.160296  3.6868   4.695652  108  63.217391  1454   67.913043  1562  2011  46253\n",
       "2011-01-05  11.869565  273       0   0       3   69          1  23  1.000000  23  0.226957  5.22  0.229270  5.2732  0.436957  10.05  0.186900  4.2987   3.565217   82  66.000000  1518   69.565217  1600  2011  46253"
      ]
     },
     "execution_count": 6,
     "metadata": {},
     "output_type": "execute_result"
    }
   ],
   "source": [
    "grouped = bikes.groupby('dteday').agg(['mean', 'sum'])\n",
    "grouped.head()"
   ]
  },
  {
   "cell_type": "code",
   "execution_count": 17,
   "metadata": {},
   "outputs": [
    {
     "data": {
      "text/plain": [
       "Index(['hour', 'holiday', 'weekday', 'workingday', 'weather', 'temp', 'atemp', 'hum', 'windspeed', 'casual', 'registered', 'total_rides', 'year'], dtype='object')"
      ]
     },
     "execution_count": 17,
     "metadata": {},
     "output_type": "execute_result"
    }
   ],
   "source": [
    "grouped.columns.levels[0]"
   ]
  },
  {
   "cell_type": "code",
   "execution_count": 36,
   "metadata": {},
   "outputs": [],
   "source": [
    "tot_rides = grouped.loc[:,('total_rides', 'sum')]\n",
    "\n",
    "data = grouped.loc[:,(grouped.columns.levels[0], 'mean')]"
   ]
  },
  {
   "cell_type": "code",
   "execution_count": 37,
   "metadata": {},
   "outputs": [
    {
     "data": {
      "text/html": [
       "<div>\n",
       "<style scoped>\n",
       "    .dataframe tbody tr th:only-of-type {\n",
       "        vertical-align: middle;\n",
       "    }\n",
       "\n",
       "    .dataframe tbody tr th {\n",
       "        vertical-align: top;\n",
       "    }\n",
       "\n",
       "    .dataframe thead th {\n",
       "        text-align: right;\n",
       "    }\n",
       "</style>\n",
       "<table border=\"1\" class=\"dataframe\">\n",
       "  <thead>\n",
       "    <tr style=\"text-align: right;\">\n",
       "      <th></th>\n",
       "      <th>hour</th>\n",
       "      <th>holiday</th>\n",
       "      <th>weekday</th>\n",
       "      <th>workingday</th>\n",
       "      <th>weather</th>\n",
       "      <th>temp</th>\n",
       "      <th>atemp</th>\n",
       "      <th>hum</th>\n",
       "      <th>windspeed</th>\n",
       "      <th>casual</th>\n",
       "      <th>registered</th>\n",
       "      <th>total_rides</th>\n",
       "      <th>year</th>\n",
       "    </tr>\n",
       "    <tr>\n",
       "      <th>dteday</th>\n",
       "      <th></th>\n",
       "      <th></th>\n",
       "      <th></th>\n",
       "      <th></th>\n",
       "      <th></th>\n",
       "      <th></th>\n",
       "      <th></th>\n",
       "      <th></th>\n",
       "      <th></th>\n",
       "      <th></th>\n",
       "      <th></th>\n",
       "      <th></th>\n",
       "      <th></th>\n",
       "    </tr>\n",
       "  </thead>\n",
       "  <tbody>\n",
       "    <tr>\n",
       "      <th>2011-01-01</th>\n",
       "      <td>11.500000</td>\n",
       "      <td>0</td>\n",
       "      <td>6</td>\n",
       "      <td>0</td>\n",
       "      <td>1.583333</td>\n",
       "      <td>0.344167</td>\n",
       "      <td>0.363625</td>\n",
       "      <td>0.805833</td>\n",
       "      <td>0.160446</td>\n",
       "      <td>13.791667</td>\n",
       "      <td>27.250000</td>\n",
       "      <td>41.041667</td>\n",
       "      <td>2011</td>\n",
       "    </tr>\n",
       "    <tr>\n",
       "      <th>2011-01-02</th>\n",
       "      <td>11.782609</td>\n",
       "      <td>0</td>\n",
       "      <td>0</td>\n",
       "      <td>0</td>\n",
       "      <td>1.956522</td>\n",
       "      <td>0.363478</td>\n",
       "      <td>0.353739</td>\n",
       "      <td>0.696087</td>\n",
       "      <td>0.248539</td>\n",
       "      <td>5.695652</td>\n",
       "      <td>29.130435</td>\n",
       "      <td>34.826087</td>\n",
       "      <td>2011</td>\n",
       "    </tr>\n",
       "    <tr>\n",
       "      <th>2011-01-03</th>\n",
       "      <td>12.318182</td>\n",
       "      <td>0</td>\n",
       "      <td>1</td>\n",
       "      <td>1</td>\n",
       "      <td>1.000000</td>\n",
       "      <td>0.196364</td>\n",
       "      <td>0.189405</td>\n",
       "      <td>0.437273</td>\n",
       "      <td>0.248309</td>\n",
       "      <td>5.454545</td>\n",
       "      <td>55.863636</td>\n",
       "      <td>61.318182</td>\n",
       "      <td>2011</td>\n",
       "    </tr>\n",
       "    <tr>\n",
       "      <th>2011-01-04</th>\n",
       "      <td>11.869565</td>\n",
       "      <td>0</td>\n",
       "      <td>2</td>\n",
       "      <td>1</td>\n",
       "      <td>1.043478</td>\n",
       "      <td>0.200000</td>\n",
       "      <td>0.212122</td>\n",
       "      <td>0.590435</td>\n",
       "      <td>0.160296</td>\n",
       "      <td>4.695652</td>\n",
       "      <td>63.217391</td>\n",
       "      <td>67.913043</td>\n",
       "      <td>2011</td>\n",
       "    </tr>\n",
       "    <tr>\n",
       "      <th>2011-01-05</th>\n",
       "      <td>11.869565</td>\n",
       "      <td>0</td>\n",
       "      <td>3</td>\n",
       "      <td>1</td>\n",
       "      <td>1.000000</td>\n",
       "      <td>0.226957</td>\n",
       "      <td>0.229270</td>\n",
       "      <td>0.436957</td>\n",
       "      <td>0.186900</td>\n",
       "      <td>3.565217</td>\n",
       "      <td>66.000000</td>\n",
       "      <td>69.565217</td>\n",
       "      <td>2011</td>\n",
       "    </tr>\n",
       "  </tbody>\n",
       "</table>\n",
       "</div>"
      ],
      "text/plain": [
       "                 hour  holiday  weekday  workingday   weather      temp     atemp       hum  windspeed     casual  registered  total_rides  year\n",
       "dteday                                                                                                                                          \n",
       "2011-01-01  11.500000        0        6           0  1.583333  0.344167  0.363625  0.805833   0.160446  13.791667   27.250000    41.041667  2011\n",
       "2011-01-02  11.782609        0        0           0  1.956522  0.363478  0.353739  0.696087   0.248539   5.695652   29.130435    34.826087  2011\n",
       "2011-01-03  12.318182        0        1           1  1.000000  0.196364  0.189405  0.437273   0.248309   5.454545   55.863636    61.318182  2011\n",
       "2011-01-04  11.869565        0        2           1  1.043478  0.200000  0.212122  0.590435   0.160296   4.695652   63.217391    67.913043  2011\n",
       "2011-01-05  11.869565        0        3           1  1.000000  0.226957  0.229270  0.436957   0.186900   3.565217   66.000000    69.565217  2011"
      ]
     },
     "execution_count": 37,
     "metadata": {},
     "output_type": "execute_result"
    }
   ],
   "source": [
    "data.columns = grouped.columns.levels[0]\n",
    "data.head()"
   ]
  },
  {
   "cell_type": "code",
   "execution_count": 38,
   "metadata": {},
   "outputs": [
    {
     "name": "stderr",
     "output_type": "stream",
     "text": [
      "//anaconda3/lib/python3.7/site-packages/pandas/core/frame.py:3940: SettingWithCopyWarning: \n",
      "A value is trying to be set on a copy of a slice from a DataFrame\n",
      "\n",
      "See the caveats in the documentation: http://pandas.pydata.org/pandas-docs/stable/indexing.html#indexing-view-versus-copy\n",
      "  errors=errors)\n",
      "//anaconda3/lib/python3.7/site-packages/ipykernel_launcher.py:2: SettingWithCopyWarning: \n",
      "A value is trying to be set on a copy of a slice from a DataFrame.\n",
      "Try using .loc[row_indexer,col_indexer] = value instead\n",
      "\n",
      "See the caveats in the documentation: http://pandas.pydata.org/pandas-docs/stable/indexing.html#indexing-view-versus-copy\n",
      "  \n"
     ]
    }
   ],
   "source": [
    "data.drop(['total_rides', 'year', 'hour', 'registered', 'casual'], axis=1, inplace=True)\n",
    "data['total_rides'] = tot_rides"
   ]
  },
  {
   "cell_type": "code",
   "execution_count": 39,
   "metadata": {},
   "outputs": [
    {
     "data": {
      "text/html": [
       "<div>\n",
       "<style scoped>\n",
       "    .dataframe tbody tr th:only-of-type {\n",
       "        vertical-align: middle;\n",
       "    }\n",
       "\n",
       "    .dataframe tbody tr th {\n",
       "        vertical-align: top;\n",
       "    }\n",
       "\n",
       "    .dataframe thead th {\n",
       "        text-align: right;\n",
       "    }\n",
       "</style>\n",
       "<table border=\"1\" class=\"dataframe\">\n",
       "  <thead>\n",
       "    <tr style=\"text-align: right;\">\n",
       "      <th></th>\n",
       "      <th>holiday</th>\n",
       "      <th>weekday</th>\n",
       "      <th>workingday</th>\n",
       "      <th>weather</th>\n",
       "      <th>temp</th>\n",
       "      <th>atemp</th>\n",
       "      <th>hum</th>\n",
       "      <th>windspeed</th>\n",
       "      <th>total_rides</th>\n",
       "    </tr>\n",
       "    <tr>\n",
       "      <th>dteday</th>\n",
       "      <th></th>\n",
       "      <th></th>\n",
       "      <th></th>\n",
       "      <th></th>\n",
       "      <th></th>\n",
       "      <th></th>\n",
       "      <th></th>\n",
       "      <th></th>\n",
       "      <th></th>\n",
       "    </tr>\n",
       "  </thead>\n",
       "  <tbody>\n",
       "    <tr>\n",
       "      <th>2011-01-01</th>\n",
       "      <td>0</td>\n",
       "      <td>6</td>\n",
       "      <td>0</td>\n",
       "      <td>1.583333</td>\n",
       "      <td>0.344167</td>\n",
       "      <td>0.363625</td>\n",
       "      <td>0.805833</td>\n",
       "      <td>0.160446</td>\n",
       "      <td>985</td>\n",
       "    </tr>\n",
       "    <tr>\n",
       "      <th>2011-01-02</th>\n",
       "      <td>0</td>\n",
       "      <td>0</td>\n",
       "      <td>0</td>\n",
       "      <td>1.956522</td>\n",
       "      <td>0.363478</td>\n",
       "      <td>0.353739</td>\n",
       "      <td>0.696087</td>\n",
       "      <td>0.248539</td>\n",
       "      <td>801</td>\n",
       "    </tr>\n",
       "    <tr>\n",
       "      <th>2011-01-03</th>\n",
       "      <td>0</td>\n",
       "      <td>1</td>\n",
       "      <td>1</td>\n",
       "      <td>1.000000</td>\n",
       "      <td>0.196364</td>\n",
       "      <td>0.189405</td>\n",
       "      <td>0.437273</td>\n",
       "      <td>0.248309</td>\n",
       "      <td>1349</td>\n",
       "    </tr>\n",
       "    <tr>\n",
       "      <th>2011-01-04</th>\n",
       "      <td>0</td>\n",
       "      <td>2</td>\n",
       "      <td>1</td>\n",
       "      <td>1.043478</td>\n",
       "      <td>0.200000</td>\n",
       "      <td>0.212122</td>\n",
       "      <td>0.590435</td>\n",
       "      <td>0.160296</td>\n",
       "      <td>1562</td>\n",
       "    </tr>\n",
       "    <tr>\n",
       "      <th>2011-01-05</th>\n",
       "      <td>0</td>\n",
       "      <td>3</td>\n",
       "      <td>1</td>\n",
       "      <td>1.000000</td>\n",
       "      <td>0.226957</td>\n",
       "      <td>0.229270</td>\n",
       "      <td>0.436957</td>\n",
       "      <td>0.186900</td>\n",
       "      <td>1600</td>\n",
       "    </tr>\n",
       "  </tbody>\n",
       "</table>\n",
       "</div>"
      ],
      "text/plain": [
       "            holiday  weekday  workingday   weather      temp     atemp       hum  windspeed  total_rides\n",
       "dteday                                                                                                  \n",
       "2011-01-01        0        6           0  1.583333  0.344167  0.363625  0.805833   0.160446          985\n",
       "2011-01-02        0        0           0  1.956522  0.363478  0.353739  0.696087   0.248539          801\n",
       "2011-01-03        0        1           1  1.000000  0.196364  0.189405  0.437273   0.248309         1349\n",
       "2011-01-04        0        2           1  1.043478  0.200000  0.212122  0.590435   0.160296         1562\n",
       "2011-01-05        0        3           1  1.000000  0.226957  0.229270  0.436957   0.186900         1600"
      ]
     },
     "execution_count": 39,
     "metadata": {},
     "output_type": "execute_result"
    }
   ],
   "source": [
    "data.head()"
   ]
  },
  {
   "cell_type": "code",
   "execution_count": 40,
   "metadata": {},
   "outputs": [],
   "source": [
    "data.index = pd.to_datetime(data.index)"
   ]
  },
  {
   "cell_type": "code",
   "execution_count": 41,
   "metadata": {},
   "outputs": [
    {
     "data": {
      "image/png": "[encoded data removed]",
      "text/plain": [
       "<Figure size 1080x504 with 1 Axes>"
      ]
     },
     "metadata": {},
     "output_type": "display_data"
    }
   ],
   "source": [
    "fig, ax = plt.subplots(figsize=(15,7))\n",
    "\n",
    "ax.scatter(data.index, data.total_rides)\n",
    "ax.set_xlabel('Time')\n",
    "ax.set_ylabel('Total Rides')\n",
    "ax.set_title('Total Rides Grouped By Day')\n",
    "ax.set_xticklabels(data.index, rotation=45);"
   ]
  },
  {
   "cell_type": "code",
   "execution_count": 44,
   "metadata": {
    "scrolled": true
   },
   "outputs": [
    {
     "data": {
      "text/html": [
       "<div>\n",
       "<style scoped>\n",
       "    .dataframe tbody tr th:only-of-type {\n",
       "        vertical-align: middle;\n",
       "    }\n",
       "\n",
       "    .dataframe tbody tr th {\n",
       "        vertical-align: top;\n",
       "    }\n",
       "\n",
       "    .dataframe thead th {\n",
       "        text-align: right;\n",
       "    }\n",
       "</style>\n",
       "<table border=\"1\" class=\"dataframe\">\n",
       "  <thead>\n",
       "    <tr style=\"text-align: right;\">\n",
       "      <th></th>\n",
       "      <th>holiday</th>\n",
       "      <th>weekday</th>\n",
       "      <th>workingday</th>\n",
       "      <th>weather</th>\n",
       "      <th>temp</th>\n",
       "      <th>atemp</th>\n",
       "      <th>hum</th>\n",
       "      <th>windspeed</th>\n",
       "    </tr>\n",
       "    <tr>\n",
       "      <th>dteday</th>\n",
       "      <th></th>\n",
       "      <th></th>\n",
       "      <th></th>\n",
       "      <th></th>\n",
       "      <th></th>\n",
       "      <th></th>\n",
       "      <th></th>\n",
       "      <th></th>\n",
       "    </tr>\n",
       "  </thead>\n",
       "  <tbody>\n",
       "    <tr>\n",
       "      <th>2011-06-22</th>\n",
       "      <td>0</td>\n",
       "      <td>3</td>\n",
       "      <td>1</td>\n",
       "      <td>1.416667</td>\n",
       "      <td>0.733333</td>\n",
       "      <td>0.693829</td>\n",
       "      <td>0.707500</td>\n",
       "      <td>0.172262</td>\n",
       "    </tr>\n",
       "    <tr>\n",
       "      <th>2011-05-23</th>\n",
       "      <td>0</td>\n",
       "      <td>1</td>\n",
       "      <td>1</td>\n",
       "      <td>1.666667</td>\n",
       "      <td>0.631667</td>\n",
       "      <td>0.590296</td>\n",
       "      <td>0.810000</td>\n",
       "      <td>0.233842</td>\n",
       "    </tr>\n",
       "    <tr>\n",
       "      <th>2011-08-26</th>\n",
       "      <td>0</td>\n",
       "      <td>5</td>\n",
       "      <td>1</td>\n",
       "      <td>1.250000</td>\n",
       "      <td>0.700000</td>\n",
       "      <td>0.659733</td>\n",
       "      <td>0.761250</td>\n",
       "      <td>0.083963</td>\n",
       "    </tr>\n",
       "    <tr>\n",
       "      <th>2012-06-15</th>\n",
       "      <td>0</td>\n",
       "      <td>5</td>\n",
       "      <td>1</td>\n",
       "      <td>1.000000</td>\n",
       "      <td>0.639167</td>\n",
       "      <td>0.599754</td>\n",
       "      <td>0.589583</td>\n",
       "      <td>0.176617</td>\n",
       "    </tr>\n",
       "    <tr>\n",
       "      <th>2012-05-02</th>\n",
       "      <td>0</td>\n",
       "      <td>3</td>\n",
       "      <td>1</td>\n",
       "      <td>1.416667</td>\n",
       "      <td>0.564167</td>\n",
       "      <td>0.537896</td>\n",
       "      <td>0.797083</td>\n",
       "      <td>0.138058</td>\n",
       "    </tr>\n",
       "  </tbody>\n",
       "</table>\n",
       "</div>"
      ],
      "text/plain": [
       "            holiday  weekday  workingday   weather      temp     atemp       hum  windspeed\n",
       "dteday                                                                                     \n",
       "2011-06-22        0        3           1  1.416667  0.733333  0.693829  0.707500   0.172262\n",
       "2011-05-23        0        1           1  1.666667  0.631667  0.590296  0.810000   0.233842\n",
       "2011-08-26        0        5           1  1.250000  0.700000  0.659733  0.761250   0.083963\n",
       "2012-06-15        0        5           1  1.000000  0.639167  0.599754  0.589583   0.176617\n",
       "2012-05-02        0        3           1  1.416667  0.564167  0.537896  0.797083   0.138058"
      ]
     },
     "execution_count": 44,
     "metadata": {},
     "output_type": "execute_result"
    }
   ],
   "source": [
    "xtrain, xtest, ytrain, ytest = train_test_split(data.drop('total_rides', axis=1), data.total_rides, random_state=10, test_size=0.2)\n",
    "xtrain.head()"
   ]
  },
  {
   "cell_type": "code",
   "execution_count": 47,
   "metadata": {},
   "outputs": [
    {
     "name": "stdout",
     "output_type": "stream",
     "text": [
      "Simple Linear MSE: 2196623.3127408135\n"
     ]
    }
   ],
   "source": [
    "line = LinearRegression().fit(xtrain, ytrain)\n",
    "line_preds = line.predict(xtest)\n",
    "line_mse = mean_squared_error(ytest, line_preds)\n",
    "print(f'Simple Linear MSE: {line_mse}')"
   ]
  },
  {
   "cell_type": "code",
   "execution_count": 48,
   "metadata": {},
   "outputs": [
    {
     "name": "stdout",
     "output_type": "stream",
     "text": [
      "Ridge Regression MSE: 1999173.9017411957\n"
     ]
    }
   ],
   "source": [
    "ridge = RidgeCV(cv=5).fit(xtrain, ytrain)\n",
    "ridge_preds = ridge.predict(xtest)\n",
    "ridge_mse = mean_squared_error(ytest, ridge_preds)\n",
    "print(f'Ridge Regression MSE: {ridge_mse}')"
   ]
  },
  {
   "cell_type": "code",
   "execution_count": 49,
   "metadata": {},
   "outputs": [
    {
     "name": "stdout",
     "output_type": "stream",
     "text": [
      "Lasso Regression MSE: 2004335.5316461583\n"
     ]
    }
   ],
   "source": [
    "lasso = LassoCV(cv=5).fit(xtrain, ytrain)\n",
    "lasso_preds = lasso.predict(xtest)\n",
    "lasso_mse = mean_squared_error(ytest, lasso_preds)\n",
    "print(f'Lasso Regression MSE: {lasso_mse}')"
   ]
  },
  {
   "cell_type": "code",
   "execution_count": 75,
   "metadata": {},
   "outputs": [
    {
     "name": "stdout",
     "output_type": "stream",
     "text": [
      "KNN Regression MSE: 1869528.2822619048\n"
     ]
    }
   ],
   "source": [
    "scaler = StandardScaler().fit(xtrain)\n",
    "xtrain_scaled = scaler.transform(xtrain)\n",
    "xtest_scaled = scaler.transform(xtest)\n",
    "knn = KNeighborsRegressor(n_neighbors=20).fit(xtrain_scaled, ytrain)\n",
    "knn_preds = knn.predict(xtest_scaled)\n",
    "knn_mse = mean_squared_error(ytest, knn_preds)\n",
    "print(f'KNN Regression MSE: {knn_mse}')"
   ]
  },
  {
   "cell_type": "code",
   "execution_count": 57,
   "metadata": {},
   "outputs": [
    {
     "name": "stdout",
     "output_type": "stream",
     "text": [
      "Simple Decision Tree MSE: 2688872.911564626\n"
     ]
    }
   ],
   "source": [
    "treeA = tree.DecisionTreeRegressor().fit(xtrain, ytrain)\n",
    "tree_preds = treeA.predict(xtest)\n",
    "tree_mse = mean_squared_error(ytest, tree_preds)\n",
    "print(f'Simple Decision Tree MSE: {tree_mse}')"
   ]
  },
  {
   "cell_type": "code",
   "execution_count": 92,
   "metadata": {},
   "outputs": [
    {
     "name": "stdout",
     "output_type": "stream",
     "text": [
      "Random Forest MSE: 1674599.8369741498\n"
     ]
    }
   ],
   "source": [
    "rf = RandomForestRegressor(n_estimators=50, random_state=10).fit(xtrain, ytrain)\n",
    "rf_preds = rf.predict(xtest)\n",
    "rf_mse = mean_squared_error(ytest, rf_preds)\n",
    "print(f'Random Forest MSE: {rf_mse}')"
   ]
  },
  {
   "cell_type": "code",
   "execution_count": 101,
   "metadata": {},
   "outputs": [],
   "source": [
    "minmax = MinMaxScaler().fit(xtrain)\n",
    "xtrain_mm = minmax.transform(xtrain)\n",
    "xtest_mm = minmax.transform(xtest)"
   ]
  },
  {
   "cell_type": "code",
   "execution_count": 102,
   "metadata": {
    "scrolled": true
   },
   "outputs": [
    {
     "data": {
      "text/plain": [
       "8"
      ]
     },
     "execution_count": 102,
     "metadata": {},
     "output_type": "execute_result"
    }
   ],
   "source": [
    "len(xtrain.columns)"
   ]
  },
  {
   "cell_type": "code",
   "execution_count": 133,
   "metadata": {},
   "outputs": [],
   "source": [
    "# your code here\n",
    "neural_net = keras.Sequential([\n",
    "    keras.layers.Dense(8, input_shape=[8]),\n",
    "    keras.layers.Dense(15, activation='relu'),\n",
    "    keras.layers.Dense(13, activation='relu'),\n",
    "    keras.layers.Dense(1, activation='linear')\n",
    "])\n",
    "\n",
    "neural_net.compile(optimizer='adam',\n",
    "                     loss='mse')\n",
    "\n",
    "history = neural_net.fit(xtrain_mm, ytrain, epochs=1000, batch_size=80, validation_split=0.3, verbose=0)\n"
   ]
  },
  {
   "cell_type": "code",
   "execution_count": 134,
   "metadata": {},
   "outputs": [
    {
     "name": "stdout",
     "output_type": "stream",
     "text": [
      "Neural Net MSE: 1991881.3473150714\n"
     ]
    }
   ],
   "source": [
    "nn_preds = neural_net.predict(xtest_mm)\n",
    "nn_mse = mean_squared_error(ytest, nn_preds)\n",
    "print(f'Neural Net MSE: {nn_mse}')"
   ]
  },
  {
   "cell_type": "code",
   "execution_count": 136,
   "metadata": {},
   "outputs": [
    {
     "data": {
      "image/png": "[encoded data removed]",
      "text/plain": [
       "<Figure size 1080x576 with 1 Axes>"
      ]
     },
     "metadata": {},
     "output_type": "display_data"
    }
   ],
   "source": [
    "all_preds = [line_preds, ridge_preds, lasso_preds, knn_preds, tree_preds, rf_preds, nn_preds]\n",
    "names = ['Linear', 'Ridge', 'Lasso', 'KNN', 'Decision Tree', 'Random Forest', 'Neural Net']\n",
    "fig, ax = plt.subplots(figsize=(15,8))\n",
    "\n",
    "ax.scatter(xtrain.index, ytrain, label='Train Data')\n",
    "ax.scatter(xtest.index, ytest, label='Test Data')\n",
    "\n",
    "for pred, name in zip(all_preds, names):\n",
    "    ax.scatter(xtest.index, pred, label=name)\n",
    "\n",
    "ax.set_title('Various Models Fitting The Same Data')\n",
    "ax.set_xlabel('Time')\n",
    "ax.set_ylabel('Total Rides')\n",
    "ax.legend();"
   ]
  },
  {
   "cell_type": "markdown",
   "metadata": {},
   "source": [
    "Here we see all of our models stacked up against one another. This is a bit of a messy plot, and I typically wouldn't include it in a report, but I think it does help to see that many of the models have similar fits *and* predictions. As we saw above, currently our random forest model performs the best on the test data, but only marginally so. "
   ]
  },
  {
   "cell_type": "markdown",
   "metadata": {},
   "source": [
    "________________"
   ]
  },
  {
   "cell_type": "markdown",
   "metadata": {},
   "source": [
    "## What's next?\n",
    "\n",
    "You're probably looking at those models and thinking, \"eh\". And you'd be right. These are the simplest baseline, expository models we could possible build (except for maybe the neural net). \n",
    "\n",
    "What we will going into next are some strategies and techniques to improve upon our models. \n",
    "1. Polynomial features\n",
    "2. Interaction Terms\n",
    "3. Pruning\n",
    "4. Cross-Validation (we got a sneak peak with RidgeCV and LassoCV, so we will learn what the 'CV' part of those functions did)\n",
    "5. Neural Net Regularizing (many different methods)"
   ]
  },
  {
   "cell_type": "code",
   "execution_count": null,
   "metadata": {},
   "outputs": [],
   "source": []
  }
 ],
 "metadata": {
  "kernelspec": {
   "display_name": "Python 3",
   "language": "python",
   "name": "python3"
  },
  "language_info": {
   "codemirror_mode": {
    "name": "ipython",
    "version": 3
   },
   "file_extension": ".py",
   "mimetype": "text/x-python",
   "name": "python",
   "nbconvert_exporter": "python",
   "pygments_lexer": "ipython3",
   "version": "3.7.3"
  }
 },
 "nbformat": 4,
 "nbformat_minor": 2
}
